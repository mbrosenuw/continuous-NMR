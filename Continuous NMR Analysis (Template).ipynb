{
 "cells": [
  {
   "cell_type": "markdown",
   "metadata": {},
   "source": [
    "# Continuous NMR analysis\n",
    "\n",
    "Use this template as a starting point to carry out the analysis tasks.  For reference, here are links to recommended Python resources: the [Whirlwind Tour of Python](https://jakevdp.github.io/WhirlwindTourOfPython/) and the [Python Data Science Handbook](https://jakevdp.github.io/PythonDataScienceHandbook/) both by Jake VanderPlas.\n",
    "\n",
    "## Standard Packages\n",
    "\n",
    "This is a good idea at the beginning of your notebook to include the packages that you will need.  We will use those shown below here.  A brief description:\n",
    "* `numpy` is the foundational package for Python numerical work. It extends and speeds up array operations beyond standard Python, and it includes almost all math functions that you would need for example `sqrt()` (square root) or `cos()` (cosine).  These would be written in code as `np.sqrt()` or `np.cos()`.\n",
    "* `scipy` is a huge collection of scientific data analysis functions, routines, physicical constants, etc.  This is the second most used package for scientific work. Here we will use the physical constants library, `scipy.constants`.  Documentation is at [SciPy.org](https://docs.scipy.org/doc/scipy/reference/) with the constants subpackage at https://docs.scipy.org/doc/scipy/reference/constants.html.\n",
    "* `uncertainties` is a very useful small package that simplifies uncertainty propagation and printing out of quantities with uncertainty. Documentation is at https://pythonhosted.org/uncertainties/\n",
    "* `matplotlib` is *the* standard plotting package for scientific Python.  We will use a subset called `pyplot` which is modeled after the plotting functions used in MATLAB. The last line below, `%matplotlib inline`, simply forces the plots to appear within the notebook.\n",
    "* `pandas` is a large data science package.  It's main feature is a set of methods to create and manipulate a \"DataFrame,\" which is an enlargement of the idea of an array.  I plays well with NumPy and other packages.  We will use it mainly as a way to read files into data sets in an easy way.\n",
    "* [LMFit](https://lmfit.github.io/lmfit-py/) is excellent for carrying out line and curve fits with many useful features."
   ]
  },
  {
   "cell_type": "markdown",
   "metadata": {},
   "source": [
    "## Getting Help\n",
    "\n",
    "See the example code for a wide range of actions in notebooks created by Prof. Marjorie Olmstead and Prof. David Pengra in this repository: [**Physics431/Examples**](https://github.com/Physics431/Examples).\n",
    "\n",
    "You can pull the examples into your environment with the following command.  (Only do this once, or you will get an error):\n",
    "\n",
    "    git clone https://github.com/Physics431/Examples"
   ]
  },
  {
   "cell_type": "markdown",
   "metadata": {},
   "source": [
    "## Task Summary\n",
    "\n",
    "#### Measure $\\gamma$ for protons\n",
    "1. Import measurements of frequency and magnetic field taken multiple times (5-10) in order to establish uncertainty of individual measurements.  \n",
    "2. Calculate the mean and standard deviation of each set of measurements.  Also calculate the percent uncetainty in each set. Use these results to establish uncertainties on the rest of the data points.\n",
    "3. Import measurements of the resonant frequency $f_{\\rm res}$ vs. static field $B_0$ for protons in water (+CuSO<sub>4</sub>) across the range of frequencies available with the oscillator.  \n",
    "4. Include the uncertainty calculated in step 2.\n",
    "5. Make a line fit and a plot of the data with the fit (use LMfit) to get the slope of $f_{\\rm res}$ versus $B_0$.\n",
    "6. Calculate $\\gamma$ and the $g$-factor for the proton, including uncertainty.\n",
    "\n",
    "#### Measure the resonance of <sup>19</sup>F versus <sup>1</sup>H\n",
    "1. Import measurements listing measured B-field along with resonant frequencies of <sup>1</sup>H and <sup>19</sup>F at those field strengths.\n",
    "2. Fit a line to the resonant frequency of <sup>19</sup>F versus resonant frequency of <sup>1</sup>H from the above data set, plot it (use LMfit) and obtain slope and its uncertainty.\n",
    "3. From the results calculate $\\gamma$ and associated $g$-factor for <sup>19</sup>F from the fit result and the accepted values known for <sup>1</sup>H.\n",
    "4. Comment in your Group Notebook on the topic of observable chemical shift for fluorine\n",
    "\n",
    "#### Trend of $T_2^*$ with paramagnetic ion concentration\n",
    "If you can get quantitative values for how $T_2^*$ decays for a range of concentration, make a plot to see the trend.\n"
   ]
  },
  {
   "cell_type": "code",
   "execution_count": 259,
   "metadata": {
    "ExecuteTime": {
     "end_time": "2025-01-15T00:10:50.248560Z",
     "start_time": "2025-01-15T00:10:50.216241Z"
    }
   },
   "outputs": [
    {
     "data": {
      "text/plain": "8166.0"
     },
     "execution_count": 259,
     "metadata": {},
     "output_type": "execute_result"
    }
   ],
   "source": [
    "# Usually import packages via a handle to the functions in them using import ... as ...\n",
    "#\n",
    "import numpy as np\n",
    "import matplotlib.pyplot as plt\n",
    "import matplotlib as mpl\n",
    "import pandas as pd\n",
    "import uncertainties as unc\n",
    "import scipy.constants as const\n",
    "%matplotlib inline\n",
    "\n",
    "def r4(arr):\n",
    "    def round_to_sigfigs(number, sigfigs=4):\n",
    "        if number == 0:\n",
    "            return 0\n",
    "        # Calculate the order of magnitude of the number\n",
    "        order_of_magnitude = np.floor(np.log10(abs(number)))\n",
    "        # Scale the number to shift significant figures to integer range\n",
    "        scale_factor = 10 ** (sigfigs - 1 - order_of_magnitude)\n",
    "        # Round to nearest integer at the scaled level\n",
    "        rounded = col_round(number * scale_factor)\n",
    "        # Scale back to original magnitude\n",
    "        return rounded / scale_factor\n",
    "\n",
    "    vectorized_round = np.vectorize(round_to_sigfigs)\n",
    "    return vectorized_round(arr)\n",
    "\n",
    "def col_round(x):\n",
    "  frac = x - np.floor(x)\n",
    "  if frac < 0.5: return np.floor(x)\n",
    "  return np.ceil(x)\n",
    "\n",
    "r4(8.1665)\n",
    "col_round(8.1665*1000)\n"
   ]
  },
  {
   "cell_type": "code",
   "execution_count": 260,
   "metadata": {
    "ExecuteTime": {
     "end_time": "2025-01-15T00:10:50.264690Z",
     "start_time": "2025-01-15T00:10:50.250419Z"
    }
   },
   "outputs": [],
   "source": [
    "# Useful plot default\n",
    "mpl.rcParams['figure.figsize'] = 12.0,8.0  # Roughly 12 cm wde by 8 cm high\n",
    "mpl.rcParams['font.size'] = 14.0 # Use 14 point font"
   ]
  },
  {
   "cell_type": "markdown",
   "metadata": {},
   "source": [
    "## Magnetic moment of the proton\n",
    "\n",
    "### Read in the multi-measurement data\n",
    "\n",
    "You should have a spreadsheet (CSV) with columns or rows of like measurements of frequency and field for a set of steady fields (at least 3 sets of 10 across the range of useable oscillator frequencies).  Import these data with Pandas `pd.read_csv()`:\n",
    "    \n",
    "    multi_data = pd.read_csv('multi-measurement_NMR_data.csv')\n"
   ]
  },
  {
   "cell_type": "code",
   "execution_count": 276,
   "metadata": {
    "ExecuteTime": {
     "end_time": "2025-01-15T00:11:25.659845Z",
     "start_time": "2025-01-15T00:11:25.645666Z"
    }
   },
   "outputs": [
    {
     "data": {
      "text/plain": "    B1        F1   B2        F2   B3         F3\n0  1.9  8.111428  2.2  9.386036  2.6  11.097345\n1  NaN  8.116436  NaN  9.388261  NaN  11.096828\n2  NaN  8.118151  NaN  9.388306  NaN  11.096747\n3  NaN  8.118828  NaN  9.388379  NaN  11.095028\n4  NaN  8.114294  NaN  9.388353  NaN  11.096786\n5  NaN  8.114070  NaN  9.388555  NaN  11.098098\n6  NaN  8.110793  NaN  9.389152  NaN  11.098345\n7  NaN  8.111696  NaN  9.389538  NaN  11.098362\n8  NaN  8.112077  NaN  9.389313  NaN  11.098183\n9  NaN  8.112108  NaN  9.389308  NaN  11.098050",
      "text/html": "<div>\n<style scoped>\n    .dataframe tbody tr th:only-of-type {\n        vertical-align: middle;\n    }\n\n    .dataframe tbody tr th {\n        vertical-align: top;\n    }\n\n    .dataframe thead th {\n        text-align: right;\n    }\n</style>\n<table border=\"1\" class=\"dataframe\">\n  <thead>\n    <tr style=\"text-align: right;\">\n      <th></th>\n      <th>B1</th>\n      <th>F1</th>\n      <th>B2</th>\n      <th>F2</th>\n      <th>B3</th>\n      <th>F3</th>\n    </tr>\n  </thead>\n  <tbody>\n    <tr>\n      <th>0</th>\n      <td>1.9</td>\n      <td>8.111428</td>\n      <td>2.2</td>\n      <td>9.386036</td>\n      <td>2.6</td>\n      <td>11.097345</td>\n    </tr>\n    <tr>\n      <th>1</th>\n      <td>NaN</td>\n      <td>8.116436</td>\n      <td>NaN</td>\n      <td>9.388261</td>\n      <td>NaN</td>\n      <td>11.096828</td>\n    </tr>\n    <tr>\n      <th>2</th>\n      <td>NaN</td>\n      <td>8.118151</td>\n      <td>NaN</td>\n      <td>9.388306</td>\n      <td>NaN</td>\n      <td>11.096747</td>\n    </tr>\n    <tr>\n      <th>3</th>\n      <td>NaN</td>\n      <td>8.118828</td>\n      <td>NaN</td>\n      <td>9.388379</td>\n      <td>NaN</td>\n      <td>11.095028</td>\n    </tr>\n    <tr>\n      <th>4</th>\n      <td>NaN</td>\n      <td>8.114294</td>\n      <td>NaN</td>\n      <td>9.388353</td>\n      <td>NaN</td>\n      <td>11.096786</td>\n    </tr>\n    <tr>\n      <th>5</th>\n      <td>NaN</td>\n      <td>8.114070</td>\n      <td>NaN</td>\n      <td>9.388555</td>\n      <td>NaN</td>\n      <td>11.098098</td>\n    </tr>\n    <tr>\n      <th>6</th>\n      <td>NaN</td>\n      <td>8.110793</td>\n      <td>NaN</td>\n      <td>9.389152</td>\n      <td>NaN</td>\n      <td>11.098345</td>\n    </tr>\n    <tr>\n      <th>7</th>\n      <td>NaN</td>\n      <td>8.111696</td>\n      <td>NaN</td>\n      <td>9.389538</td>\n      <td>NaN</td>\n      <td>11.098362</td>\n    </tr>\n    <tr>\n      <th>8</th>\n      <td>NaN</td>\n      <td>8.112077</td>\n      <td>NaN</td>\n      <td>9.389313</td>\n      <td>NaN</td>\n      <td>11.098183</td>\n    </tr>\n    <tr>\n      <th>9</th>\n      <td>NaN</td>\n      <td>8.112108</td>\n      <td>NaN</td>\n      <td>9.389308</td>\n      <td>NaN</td>\n      <td>11.098050</td>\n    </tr>\n  </tbody>\n</table>\n</div>"
     },
     "execution_count": 276,
     "metadata": {},
     "output_type": "execute_result"
    }
   ],
   "source": [
    "# Read in the data to a Pandas dataframe and print a table.\n",
    "df = pd.read_csv('exercise 1 calibration.csv')\n",
    "df"
   ]
  },
  {
   "cell_type": "markdown",
   "metadata": {},
   "source": [
    "If the multiple measurements in the dataframe `df` are in a column with name `'col_name'` you an calculat the mean and standard deviation with the internal methods like this:\n",
    "\n",
    "    col_mean = df['col_name'].mean()\n",
    "    col_std_dev = df['col_name'].std()\n",
    "    \n",
    "Then the percent uncertainty is just the ratio of the standard deviation to the mean ($\\times$100).  Calculate this too."
   ]
  },
  {
   "cell_type": "code",
   "execution_count": 277,
   "metadata": {
    "ExecuteTime": {
     "end_time": "2025-01-15T00:11:29.996478Z",
     "start_time": "2025-01-15T00:11:29.992782Z"
    }
   },
   "outputs": [
    {
     "name": "stdout",
     "output_type": "stream",
     "text": [
      "B1 =  1.9\n"
     ]
    }
   ],
   "source": [
    "# Calculate the requested quantities\n",
    "class measure:\n",
    "    def __init__(self, df, bname, mname):\n",
    "        self.b = df[bname].values[0]\n",
    "        self.m = df[mname]\n",
    "        self.fmean = self.m.mean()\n",
    "        self.fstd = self.m.std()\n",
    "        self.uncert = self.fstd/self.fmean * 100\n",
    "\n",
    "m1 = measure(df, 'B1', 'F1')\n",
    "m2 = measure(df, 'B2', 'F2')\n",
    "m3 = measure(df, 'B3', 'F3')\n",
    "measurements = [m1, m2, m3]\n"
   ]
  },
  {
   "cell_type": "markdown",
   "metadata": {},
   "source": [
    "If the standard deviations are (nearly) the same, you can use one number for the uncertainty in a frequency or field measurement.  If they are different, check the percent uncertainty.  If these are (nearly) the same, then the data-point uncertainty can be given by the value times this percent uncertainty. If these are different, then you should use an interpolation function to calculate the uncertainty in a data point.\n",
    "\n",
    "The Python libraries provide just such a function: the **SciPy** `interpolate` package, which you can read about here: [SciPy Interpolate](https://docs.scipy.org/doc/scipy/reference/reference/interpolate.html).\n",
    "\n",
    "The SciPy function to use is `interp1d()`.  Notice that it creates a *function*. To create the interpolation function, you feed it your feed it your list of uncertainties versus frequency or uncertainties versus field, then use the result with your array of values of $f_{\\rm res}$ versus $B_0$ to obtain the uncertainty for each data point."
   ]
  },
  {
   "cell_type": "code",
   "execution_count": 279,
   "metadata": {
    "ExecuteTime": {
     "end_time": "2025-01-15T00:12:25.702654Z",
     "start_time": "2025-01-15T00:12:25.696221Z"
    }
   },
   "outputs": [
    {
     "name": "stdout",
     "output_type": "stream",
     "text": [
      "[ 8.1139881  9.3885201 11.0973772]\n",
      "[0.0029069  0.00100098 0.00105914]\n",
      "[0.03582575 0.01066176 0.00954409]\n"
     ]
    }
   ],
   "source": [
    "# Make a table of the uncertainty calculation to easily compare the values across the measurement range.\n",
    "means = np.array([m.fmean for m in measurements])\n",
    "bs = np.array([m.b for m in measurements])\n",
    "sigmas = np.array([m.fstd for m in measurements])\n",
    "uncerts = np.array([m.uncert for m in measurements])\n",
    "print(means)\n",
    "print(sigmas)\n",
    "print(uncerts)\n",
    "\n",
    "#these standard deviations are close enough"
   ]
  },
  {
   "cell_type": "markdown",
   "metadata": {},
   "source": [
    "### Read in the resonance data for protons\n",
    "\n",
    "Use `read_csv()` as before.  You should have a table with at least 2 columns: resonance frequency and magnetic field. \n",
    "\n",
    "Print a table."
   ]
  },
  {
   "cell_type": "code",
   "execution_count": 280,
   "metadata": {
    "ExecuteTime": {
     "end_time": "2025-01-15T00:13:31.012880Z",
     "start_time": "2025-01-15T00:13:31.003361Z"
    }
   },
   "outputs": [
    {
     "data": {
      "text/plain": "    B (kG)  f_res (MHz)\n0    1.500     6.402169\n1    1.600     6.831075\n2    1.700     7.255109\n3    1.800     7.685127\n4    1.900     8.112426\n5    2.000     8.536764\n6    2.100     8.964888\n7    2.200     9.392011\n8    2.300     9.815596\n9    2.401    10.247742\n10   2.501    10.673405\n11   2.601    11.099485\n12   2.701    11.524329\n13   2.800    11.943048",
      "text/html": "<div>\n<style scoped>\n    .dataframe tbody tr th:only-of-type {\n        vertical-align: middle;\n    }\n\n    .dataframe tbody tr th {\n        vertical-align: top;\n    }\n\n    .dataframe thead th {\n        text-align: right;\n    }\n</style>\n<table border=\"1\" class=\"dataframe\">\n  <thead>\n    <tr style=\"text-align: right;\">\n      <th></th>\n      <th>B (kG)</th>\n      <th>f_res (MHz)</th>\n    </tr>\n  </thead>\n  <tbody>\n    <tr>\n      <th>0</th>\n      <td>1.500</td>\n      <td>6.402169</td>\n    </tr>\n    <tr>\n      <th>1</th>\n      <td>1.600</td>\n      <td>6.831075</td>\n    </tr>\n    <tr>\n      <th>2</th>\n      <td>1.700</td>\n      <td>7.255109</td>\n    </tr>\n    <tr>\n      <th>3</th>\n      <td>1.800</td>\n      <td>7.685127</td>\n    </tr>\n    <tr>\n      <th>4</th>\n      <td>1.900</td>\n      <td>8.112426</td>\n    </tr>\n    <tr>\n      <th>5</th>\n      <td>2.000</td>\n      <td>8.536764</td>\n    </tr>\n    <tr>\n      <th>6</th>\n      <td>2.100</td>\n      <td>8.964888</td>\n    </tr>\n    <tr>\n      <th>7</th>\n      <td>2.200</td>\n      <td>9.392011</td>\n    </tr>\n    <tr>\n      <th>8</th>\n      <td>2.300</td>\n      <td>9.815596</td>\n    </tr>\n    <tr>\n      <th>9</th>\n      <td>2.401</td>\n      <td>10.247742</td>\n    </tr>\n    <tr>\n      <th>10</th>\n      <td>2.501</td>\n      <td>10.673405</td>\n    </tr>\n    <tr>\n      <th>11</th>\n      <td>2.601</td>\n      <td>11.099485</td>\n    </tr>\n    <tr>\n      <th>12</th>\n      <td>2.701</td>\n      <td>11.524329</td>\n    </tr>\n    <tr>\n      <th>13</th>\n      <td>2.800</td>\n      <td>11.943048</td>\n    </tr>\n  </tbody>\n</table>\n</div>"
     },
     "execution_count": 280,
     "metadata": {},
     "output_type": "execute_result"
    }
   ],
   "source": [
    "df2 = pd.read_csv('exercise 1 data.csv')\n",
    "df2\n"
   ]
  },
  {
   "cell_type": "code",
   "execution_count": 283,
   "metadata": {
    "ExecuteTime": {
     "end_time": "2025-01-15T00:14:31.803961Z",
     "start_time": "2025-01-15T00:14:31.756201Z"
    }
   },
   "outputs": [
    {
     "name": "stdout",
     "output_type": "stream",
     "text": [
      "[0.0029069  0.0029069  0.0029069  0.0029069  0.0029069  0.00227159\n",
      " 0.00163629 0.00100098 0.00101552 0.00103021 0.00104475 0.00105914\n",
      " 0.00105914 0.00105914]\n"
     ]
    }
   ],
   "source": [
    "# Based on the result of the uncertainty analysis above, construct uncertainty arrays\n",
    "# to go with the data according to those instructions.\n",
    "# Include the uncertainty results as another column in the dataframe \n",
    "Bvals = df2['B (kG)'].values\n",
    "freqs = df2['f_res (MHz)'].values\n",
    "# Read in the data, and print the dataframe\n",
    "stdev = np.interp(Bvals, bs, sigmas)\n",
    "print(stdev)"
   ]
  },
  {
   "cell_type": "markdown",
   "metadata": {},
   "source": [
    "### Fit the data to extract the slope\n",
    "\n",
    "Use LMfit.  See the examples."
   ]
  },
  {
   "cell_type": "code",
   "execution_count": 263,
   "metadata": {
    "ExecuteTime": {
     "end_time": "2025-01-15T00:10:50.354507Z",
     "start_time": "2025-01-15T00:10:50.316189Z"
    }
   },
   "outputs": [
    {
     "ename": "ModuleNotFoundError",
     "evalue": "No module named 'lmfit'",
     "output_type": "error",
     "traceback": [
      "\u001B[0;31m---------------------------------------------------------------------------\u001B[0m",
      "\u001B[0;31mModuleNotFoundError\u001B[0m                       Traceback (most recent call last)",
      "Cell \u001B[0;32mIn[263], line 5\u001B[0m\n\u001B[1;32m      1\u001B[0m \u001B[38;5;66;03m# Set  up the Model\u001B[39;00m\n\u001B[1;32m      2\u001B[0m \n\u001B[1;32m      3\u001B[0m \u001B[38;5;66;03m# Import the Linear model.\u001B[39;00m\n\u001B[1;32m      4\u001B[0m \u001B[38;5;66;03m# You only do this once in a notebook\u001B[39;00m\n\u001B[0;32m----> 5\u001B[0m \u001B[38;5;28;01mfrom\u001B[39;00m \u001B[38;5;21;01mlmfit\u001B[39;00m\u001B[38;5;21;01m.\u001B[39;00m\u001B[38;5;21;01mmodels\u001B[39;00m \u001B[38;5;28;01mimport\u001B[39;00m LinearModel\n\u001B[1;32m      7\u001B[0m \u001B[38;5;66;03m# create an instance of the model\u001B[39;00m\n\u001B[1;32m      8\u001B[0m \u001B[38;5;66;03m# You only need to do this once\u001B[39;00m\n\u001B[1;32m      9\u001B[0m line \u001B[38;5;241m=\u001B[39m LinearModel()\n",
      "\u001B[0;31mModuleNotFoundError\u001B[0m: No module named 'lmfit'"
     ]
    }
   ],
   "source": [
    "# Set  up the Model\n",
    "\n",
    "# Import the Linear model.\n",
    "# You only do this once in a notebook\n",
    "from lmfit.models import LinearModel\n",
    "\n",
    "# create an instance of the model\n",
    "# You only need to do this once\n",
    "line = LinearModel()\n",
    "start_params = line.guess(y_data, x=x_data"
   ]
  },
  {
   "cell_type": "code",
   "execution_count": 264,
   "metadata": {
    "ExecuteTime": {
     "end_time": "2025-01-15T00:10:50.366302Z",
     "start_time": "2025-01-15T00:10:50.345906Z"
    }
   },
   "outputs": [],
   "source": [
    "# Get starting parameters.  Example:\n",
    "# start_params = line.guess(y_data, x=x_data\n",
    "\n",
    "# Feed these into the fitter and run it. Example:\n",
    "# Line_fit = line.fit(y_data, start_params, x=x_data, weights=1/y_data_unc)\n",
    "\n",
    "# Print the fit results. Example\n",
    "# Line_fit"
   ]
  },
  {
   "cell_type": "code",
   "execution_count": 265,
   "metadata": {
    "scrolled": false,
    "ExecuteTime": {
     "end_time": "2025-01-15T00:10:50.369712Z",
     "start_time": "2025-01-15T00:10:50.367984Z"
    }
   },
   "outputs": [],
   "source": [
    "# Make a plot.  Example\n",
    "# Line_fit.plot()\n",
    "# plt.grid(True)\n",
    "# plt.title('NMR resonance measurement for protons')\n",
    "# plt.xlabel('Magnetic field (kG)')\n",
    "# plt.ylabel('Resonant frequency (MHz)');"
   ]
  },
  {
   "cell_type": "markdown",
   "metadata": {},
   "source": [
    "### Extract the slope with uncertainty from the fit parameters\n"
   ]
  },
  {
   "cell_type": "code",
   "execution_count": 266,
   "metadata": {
    "ExecuteTime": {
     "end_time": "2025-01-15T00:10:50.377489Z",
     "start_time": "2025-01-15T00:10:50.370058Z"
    }
   },
   "outputs": [],
   "source": [
    "# Example\n",
    "# proton_slope = unc.ufloat(Line_fit.params['slope'].value, Line_fit.params['slope'].stderr,'proton_slope')\n",
    "# print('gamma for protons = {:.2uP} MHz/kG'.format(proton_slope))"
   ]
  },
  {
   "cell_type": "markdown",
   "metadata": {},
   "source": [
    "Calculate $\\gamma$ in rad/(s-T) to compare to accepted values.  Use the conversion constants in `scipy.constants` \n"
   ]
  },
  {
   "cell_type": "code",
   "execution_count": 267,
   "metadata": {
    "ExecuteTime": {
     "end_time": "2025-01-15T00:10:50.377938Z",
     "start_time": "2025-01-15T00:10:50.371968Z"
    }
   },
   "outputs": [
    {
     "name": "stdout",
     "output_type": "stream",
     "text": [
      "Expected value of gamma for proton: 42.5775 MHz/T\n"
     ]
    }
   ],
   "source": [
    "# Here is an example of how to access the scipy.constants\n",
    "\n",
    "expected_gamma = const.value('nuclear magneton in MHz/T')*const.value('proton g factor')\n",
    "print('Expected value of gamma for proton: {:.6g} MHz/T'.format(expected_gamma))"
   ]
  },
  {
   "cell_type": "markdown",
   "metadata": {},
   "source": [
    "Calculate the proton $g$-factor from your result and compare to the expected value."
   ]
  },
  {
   "cell_type": "code",
   "execution_count": 268,
   "metadata": {
    "ExecuteTime": {
     "end_time": "2025-01-15T00:10:50.381127Z",
     "start_time": "2025-01-15T00:10:50.377767Z"
    }
   },
   "outputs": [],
   "source": [
    "# You code this\n"
   ]
  },
  {
   "cell_type": "markdown",
   "source": [
    "## B field inhomogeneity\n",
    "\n",
    "### Read in the data\n",
    "\n",
    "Also, print a table."
   ],
   "metadata": {
    "collapsed": false
   }
  },
  {
   "cell_type": "code",
   "outputs": [
    {
     "data": {
      "text/plain": "    Position       Freq\n0          1  10.029039\n1          2  10.029181\n2          3  10.033338\n3          4  10.033736\n4          5  10.033707\n5          6  10.043256\n6          7  10.034960\n7          8  10.037377\n8          9  10.037123\n9         10  10.030688\n10        11  10.032607\n11        12  10.043044\n12        13  10.026641\n13        14  10.024645\n14        15  10.023831",
      "text/html": "<div>\n<style scoped>\n    .dataframe tbody tr th:only-of-type {\n        vertical-align: middle;\n    }\n\n    .dataframe tbody tr th {\n        vertical-align: top;\n    }\n\n    .dataframe thead th {\n        text-align: right;\n    }\n</style>\n<table border=\"1\" class=\"dataframe\">\n  <thead>\n    <tr style=\"text-align: right;\">\n      <th></th>\n      <th>Position</th>\n      <th>Freq</th>\n    </tr>\n  </thead>\n  <tbody>\n    <tr>\n      <th>0</th>\n      <td>1</td>\n      <td>10.029039</td>\n    </tr>\n    <tr>\n      <th>1</th>\n      <td>2</td>\n      <td>10.029181</td>\n    </tr>\n    <tr>\n      <th>2</th>\n      <td>3</td>\n      <td>10.033338</td>\n    </tr>\n    <tr>\n      <th>3</th>\n      <td>4</td>\n      <td>10.033736</td>\n    </tr>\n    <tr>\n      <th>4</th>\n      <td>5</td>\n      <td>10.033707</td>\n    </tr>\n    <tr>\n      <th>5</th>\n      <td>6</td>\n      <td>10.043256</td>\n    </tr>\n    <tr>\n      <th>6</th>\n      <td>7</td>\n      <td>10.034960</td>\n    </tr>\n    <tr>\n      <th>7</th>\n      <td>8</td>\n      <td>10.037377</td>\n    </tr>\n    <tr>\n      <th>8</th>\n      <td>9</td>\n      <td>10.037123</td>\n    </tr>\n    <tr>\n      <th>9</th>\n      <td>10</td>\n      <td>10.030688</td>\n    </tr>\n    <tr>\n      <th>10</th>\n      <td>11</td>\n      <td>10.032607</td>\n    </tr>\n    <tr>\n      <th>11</th>\n      <td>12</td>\n      <td>10.043044</td>\n    </tr>\n    <tr>\n      <th>12</th>\n      <td>13</td>\n      <td>10.026641</td>\n    </tr>\n    <tr>\n      <th>13</th>\n      <td>14</td>\n      <td>10.024645</td>\n    </tr>\n    <tr>\n      <th>14</th>\n      <td>15</td>\n      <td>10.023831</td>\n    </tr>\n  </tbody>\n</table>\n</div>"
     },
     "execution_count": 269,
     "metadata": {},
     "output_type": "execute_result"
    }
   ],
   "source": [
    "df = pd.read_csv('Exercise 2.csv')\n",
    "df"
   ],
   "metadata": {
    "collapsed": false,
    "ExecuteTime": {
     "end_time": "2025-01-15T00:10:50.387989Z",
     "start_time": "2025-01-15T00:10:50.380394Z"
    }
   },
   "execution_count": 269
  },
  {
   "cell_type": "code",
   "outputs": [
    {
     "data": {
      "text/plain": "<Figure size 1200x800 with 1 Axes>",
      "image/png": "[encoded data removed]"
     },
     "metadata": {},
     "output_type": "display_data"
    }
   ],
   "source": [
    "#making a histogram\n",
    "plt.figure()\n",
    "B = df['Freq'].values/expected_gamma\n",
    "Bz = (B-np.mean(B))/np.mean(B)\n",
    "plt.hist(Bz, bins=5)\n",
    "plt.show()"
   ],
   "metadata": {
    "collapsed": false,
    "ExecuteTime": {
     "end_time": "2025-01-15T00:10:50.448406Z",
     "start_time": "2025-01-15T00:10:50.389347Z"
    }
   },
   "execution_count": 270
  },
  {
   "cell_type": "markdown",
   "metadata": {},
   "source": [
    "## Fluorine-19 versus Proton (Hydrogen-1) resonance\n",
    "\n",
    "### Read in the data\n",
    "\n",
    "Also, print a table."
   ]
  },
  {
   "cell_type": "code",
   "execution_count": 271,
   "metadata": {
    "ExecuteTime": {
     "end_time": "2025-01-15T00:10:50.449671Z",
     "start_time": "2025-01-15T00:10:50.436884Z"
    }
   },
   "outputs": [],
   "source": [
    "# Use pd.read_csv(), as you did earlier\n"
   ]
  },
  {
   "cell_type": "markdown",
   "metadata": {},
   "source": [
    "### Plot and fit the data.  \n",
    "\n",
    "BUT: Here you are comparing the resonant frequencies only!  The magnetic field measurement does not matter, as long as it is stable between the two frequency measurements for each data point"
   ]
  },
  {
   "cell_type": "code",
   "execution_count": 272,
   "metadata": {
    "ExecuteTime": {
     "end_time": "2025-01-15T00:10:50.450085Z",
     "start_time": "2025-01-15T00:10:50.439943Z"
    }
   },
   "outputs": [],
   "source": [
    "# Make a fit and plot of fluorine resonant frequency versus hydrogen resonant frequency.\n"
   ]
  },
  {
   "cell_type": "markdown",
   "metadata": {},
   "source": [
    "### Use the result\n",
    "\n",
    "Obtain the slope with uncertainty and with the result calculate a value for $\\gamma_F$ and the <sup>19</sup>F $g$-factor. "
   ]
  },
  {
   "cell_type": "code",
   "execution_count": 273,
   "metadata": {
    "ExecuteTime": {
     "end_time": "2025-01-15T00:10:50.451278Z",
     "start_time": "2025-01-15T00:10:50.443112Z"
    }
   },
   "outputs": [],
   "source": [
    "# You code this\n"
   ]
  },
  {
   "cell_type": "markdown",
   "metadata": {},
   "source": [
    "## Trend of $T_2^*$ as a function of paramagnetic ion concentration\n",
    "\n",
    "From the scope screen images, extract estimates of the relaxation time $T_2^*$ as a function of concentration of the copper sulfate ions.  \n",
    "\n",
    "Plot these on a plot with double-log axes.  To change the axis type of a plot use the functions\n",
    "\n",
    "    plt.xscale('log')\n",
    "    plt.yscale('log')\n",
    "    \n",
    "You should see a trend that the relaxation time gets a bit longer and then levels out as the concentration is decreased."
   ]
  },
  {
   "cell_type": "code",
   "execution_count": 274,
   "metadata": {
    "ExecuteTime": {
     "end_time": "2025-01-15T00:10:50.451606Z",
     "start_time": "2025-01-15T00:10:50.445391Z"
    }
   },
   "outputs": [],
   "source": [
    "# You code this\n"
   ]
  },
  {
   "cell_type": "code",
   "execution_count": 274,
   "metadata": {
    "ExecuteTime": {
     "end_time": "2025-01-15T00:10:50.454365Z",
     "start_time": "2025-01-15T00:10:50.451172Z"
    }
   },
   "outputs": [],
   "source": []
  }
 ],
 "metadata": {
  "kernelspec": {
   "display_name": "Python 3",
   "language": "python",
   "name": "python3"
  },
  "language_info": {
   "codemirror_mode": {
    "name": "ipython",
    "version": 3
   },
   "file_extension": ".py",
   "mimetype": "text/x-python",
   "name": "python",
   "nbconvert_exporter": "python",
   "pygments_lexer": "ipython3",
   "version": "3.7.3"
  }
 },
 "nbformat": 4,
 "nbformat_minor": 4
}
